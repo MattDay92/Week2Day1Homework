{
 "cells": [
  {
   "cell_type": "markdown",
   "metadata": {},
   "source": [
    "# Week 2 - Monday Lesson (variable assignment, loops, lists)"
   ]
  },
  {
   "cell_type": "markdown",
   "metadata": {},
   "source": [
    "## Tasks Today:\n",
    "\n",
    "1) Int & Float assignments <br>\n",
    " &nbsp;&nbsp;&nbsp;&nbsp; a) Assigning int <br>\n",
    " &nbsp;&nbsp;&nbsp;&nbsp; b) Assigning float <br>\n",
    " &nbsp;&nbsp;&nbsp;&nbsp; c) Performing Calculations on ints and floats <br>\n",
    " &nbsp;&nbsp;&nbsp;&nbsp;&nbsp;&nbsp;&nbsp;&nbsp; - Addition <br>\n",
    " &nbsp;&nbsp;&nbsp;&nbsp;&nbsp;&nbsp;&nbsp;&nbsp; - Subtraction <br>\n",
    " &nbsp;&nbsp;&nbsp;&nbsp;&nbsp;&nbsp;&nbsp;&nbsp; - Multiplication <br>\n",
    " &nbsp;&nbsp;&nbsp;&nbsp;&nbsp;&nbsp;&nbsp;&nbsp; - Division <br>\n",
    " &nbsp;&nbsp;&nbsp;&nbsp;&nbsp;&nbsp;&nbsp;&nbsp; - Floor Division <br>\n",
    " &nbsp;&nbsp;&nbsp;&nbsp;&nbsp;&nbsp;&nbsp;&nbsp; - Modulo <br>\n",
    " &nbsp;&nbsp;&nbsp;&nbsp;&nbsp;&nbsp;&nbsp;&nbsp; - Exponential <br>\n",
    "2) String Input-Output <br>\n",
    " &nbsp;&nbsp;&nbsp;&nbsp; a) String Assignment <br>\n",
    " &nbsp;&nbsp;&nbsp;&nbsp; b) print() <br>\n",
    " &nbsp;&nbsp;&nbsp;&nbsp; c) String Concatenation <br>\n",
    " &nbsp;&nbsp;&nbsp;&nbsp; d) Type Conversion <br>\n",
    " &nbsp;&nbsp;&nbsp;&nbsp; e) input() <br>\n",
    " &nbsp;&nbsp;&nbsp;&nbsp; f) format() <br>\n",
    " &nbsp;&nbsp;&nbsp;&nbsp; g) Old Way (python 2) <br>\n",
    "3) <b>In-Class Exercise #1</b> <br>\n",
    "4) If Statements <br>\n",
    " &nbsp;&nbsp;&nbsp;&nbsp; a) 'is' keyword <br>\n",
    " &nbsp;&nbsp;&nbsp;&nbsp; b) 'in' keyword <br>\n",
    " &nbsp;&nbsp;&nbsp;&nbsp; c) 'not in' keyword <br>\n",
    "5) <b>In-Class Exercise #2</b> <br>\n",
    "6) Elif Statements <br>\n",
    "7) Else Statements <br>\n",
    "8) <b>In-Class Exercise #3</b> <br>\n",
    "9) For Loops <br>\n",
    " &nbsp;&nbsp;&nbsp;&nbsp; a) Using 'in' keyword <br>\n",
    " &nbsp;&nbsp;&nbsp;&nbsp; b) Continue Statement <br>\n",
    " &nbsp;&nbsp;&nbsp;&nbsp; c) Break Statement <br>\n",
    " &nbsp;&nbsp;&nbsp;&nbsp; d) Pass Statement <br>\n",
    " &nbsp;&nbsp;&nbsp;&nbsp; e) Double For Loops <br>\n",
    "10) While Loops <br>\n",
    " &nbsp;&nbsp;&nbsp;&nbsp; a) Looping 'While True' <br>\n",
    " &nbsp;&nbsp;&nbsp;&nbsp; b) While and For Loops Used Together <br>\n",
    "11) Built-In Functions <br>\n",
    " &nbsp;&nbsp;&nbsp;&nbsp; a) range() <br>\n",
    " &nbsp;&nbsp;&nbsp;&nbsp; b) len() <br>\n",
    " &nbsp;&nbsp;&nbsp;&nbsp; c) help() <br>\n",
    " &nbsp;&nbsp;&nbsp;&nbsp; d) isinstance() <br>\n",
    " &nbsp;&nbsp;&nbsp;&nbsp; e) abs() <br>\n",
    "12) Try and Except <br>\n",
    "13) Lists <br>\n",
    " &nbsp;&nbsp;&nbsp;&nbsp; a) Declaring Lists <br>\n",
    " &nbsp;&nbsp;&nbsp;&nbsp; b) Indexing a List <br>\n",
    " &nbsp;&nbsp;&nbsp;&nbsp; c) .append() <br>\n",
    " &nbsp;&nbsp;&nbsp;&nbsp; d) .insert() <br>\n",
    " &nbsp;&nbsp;&nbsp;&nbsp; e) .pop() <br>\n",
    " &nbsp;&nbsp;&nbsp;&nbsp; f) .remove() <br>\n",
    " &nbsp;&nbsp;&nbsp;&nbsp; g) del() <br>\n",
    " &nbsp;&nbsp;&nbsp;&nbsp; h) Concatenating Two Lists <br>\n",
    " &nbsp;&nbsp;&nbsp;&nbsp; i) Lists Within Lists <br>\n",
    " &nbsp;&nbsp;&nbsp;&nbsp; j) Looping Through Lists <br>"
   ]
  },
  {
   "cell_type": "markdown",
   "metadata": {},
   "source": [
    "### Int & Float Assignments"
   ]
  },
  {
   "cell_type": "markdown",
   "metadata": {},
   "source": [
    "##### Assigning int"
   ]
  },
  {
   "cell_type": "code",
   "execution_count": 65,
   "metadata": {},
   "outputs": [
    {
     "name": "stdout",
     "output_type": "stream",
     "text": [
      "6\n",
      "<class 'int'>\n"
     ]
    }
   ],
   "source": [
    "x = 6\n",
    "print(x)\n",
    "\n",
    "type(x)\n",
    "\n",
    "print(type(x))"
   ]
  },
  {
   "cell_type": "markdown",
   "metadata": {},
   "source": [
    "##### Assinging float"
   ]
  },
  {
   "cell_type": "code",
   "execution_count": 11,
   "metadata": {},
   "outputs": [
    {
     "name": "stdout",
     "output_type": "stream",
     "text": [
      "2\n",
      "4\n",
      "1.5\n",
      "<class 'float'>\n",
      "<class 'float'>\n"
     ]
    }
   ],
   "source": [
    "# Use CMND + / to add comments\n",
    "\n",
    "1+1\n",
    "2+2  \n",
    "\n",
    "# Only shows the 2nd one\n",
    "\n",
    "print(1+1)\n",
    "print(2+2)\n",
    "\n",
    "# Use print to get both to show\n",
    "\n",
    "y = 1.5\n",
    "print(y)\n",
    "print(type(y))\n",
    "\n",
    "z=1.0\n",
    "print(type(z))\n",
    "# Anything with a decimal is a FLOAT\n",
    "# Without the decimal is an INTEGER"
   ]
  },
  {
   "cell_type": "markdown",
   "metadata": {},
   "source": [
    "#### Performing Calculations on ints and floats"
   ]
  },
  {
   "cell_type": "markdown",
   "metadata": {},
   "source": [
    "##### Addition"
   ]
  },
  {
   "cell_type": "code",
   "execution_count": 16,
   "metadata": {},
   "outputs": [
    {
     "name": "stdout",
     "output_type": "stream",
     "text": [
      "6.5\n"
     ]
    }
   ],
   "source": [
    "num1 = 2\n",
    "num2 = 4.5\n",
    "\n",
    "res = num1 + num2\n",
    "print(res)\n",
    "# integer plus float is a float but integer plus integer is integer"
   ]
  },
  {
   "cell_type": "markdown",
   "metadata": {},
   "source": [
    "##### Subtraction"
   ]
  },
  {
   "cell_type": "code",
   "execution_count": 18,
   "metadata": {},
   "outputs": [
    {
     "name": "stdout",
     "output_type": "stream",
     "text": [
      "2.5\n",
      "2.0\n"
     ]
    }
   ],
   "source": [
    "dif = num2 - num1\n",
    "print(dif)\n",
    "\n",
    "dif -= .5\n",
    "print(dif)"
   ]
  },
  {
   "cell_type": "markdown",
   "metadata": {},
   "source": [
    "##### Multiplication"
   ]
  },
  {
   "cell_type": "code",
   "execution_count": 22,
   "metadata": {},
   "outputs": [
    {
     "name": "stdout",
     "output_type": "stream",
     "text": [
      "9.0\n",
      "90.0\n"
     ]
    }
   ],
   "source": [
    "prod = num1 * num2\n",
    "print(prod)\n",
    "\n",
    "#shorthand\n",
    "# prod = prod * 10\n",
    "prod *= 10\n",
    "print(prod)"
   ]
  },
  {
   "cell_type": "markdown",
   "metadata": {},
   "source": [
    "##### Division"
   ]
  },
  {
   "cell_type": "code",
   "execution_count": 25,
   "metadata": {},
   "outputs": [
    {
     "name": "stdout",
     "output_type": "stream",
     "text": [
      "3.0\n",
      "0.3\n"
     ]
    }
   ],
   "source": [
    "quo = 9/3\n",
    "print(quo)\n",
    "\n",
    "# Division always returns a FLOAT\n",
    "\n",
    "# shorthand\n",
    "quo /= 10\n",
    "print(quo)"
   ]
  },
  {
   "cell_type": "markdown",
   "metadata": {},
   "source": [
    "##### Floor Division"
   ]
  },
  {
   "cell_type": "code",
   "execution_count": 28,
   "metadata": {},
   "outputs": [
    {
     "name": "stdout",
     "output_type": "stream",
     "text": [
      "2.0\n",
      "<class 'float'>\n"
     ]
    }
   ],
   "source": [
    "floor = 9//3.2\n",
    "print(floor)\n",
    "print(type(floor))\n",
    "\n",
    "# rounds DOWN to nearest integer - but still a FLOAT"
   ]
  },
  {
   "cell_type": "markdown",
   "metadata": {},
   "source": [
    "##### Modulo"
   ]
  },
  {
   "cell_type": "code",
   "execution_count": 32,
   "metadata": {},
   "outputs": [
    {
     "name": "stdout",
     "output_type": "stream",
     "text": [
      "1\n",
      "0\n"
     ]
    }
   ],
   "source": [
    "mod = 10 % 3\n",
    "print(mod)\n",
    "\n",
    "# gives back the remainder\n",
    "\n",
    "# shorthand\n",
    "# mod = mod % num\n",
    "\n",
    "mod %= 1\n",
    "print(mod)\n"
   ]
  },
  {
   "cell_type": "markdown",
   "metadata": {},
   "source": [
    "##### Exponential"
   ]
  },
  {
   "cell_type": "code",
   "execution_count": 35,
   "metadata": {},
   "outputs": [
    {
     "name": "stdout",
     "output_type": "stream",
     "text": [
      "25\n",
      "125\n",
      "625\n"
     ]
    }
   ],
   "source": [
    "square = 5 ** 2\n",
    "print(square)\n",
    "\n",
    "cube = 5 ** 3\n",
    "print(cube)\n",
    "\n",
    "#shorthand\n",
    "square **= 2\n",
    "print(square)"
   ]
  },
  {
   "cell_type": "markdown",
   "metadata": {},
   "source": [
    "### String Input-Output"
   ]
  },
  {
   "cell_type": "markdown",
   "metadata": {},
   "source": [
    "##### String Assignment"
   ]
  },
  {
   "cell_type": "code",
   "execution_count": 40,
   "metadata": {},
   "outputs": [
    {
     "name": "stdout",
     "output_type": "stream",
     "text": [
      "Matt Hi 123\n",
      "<class 'str'>\n"
     ]
    }
   ],
   "source": [
    "name = \"Matt\"\n",
    "print(name)\n",
    "print(type(name))"
   ]
  },
  {
   "cell_type": "markdown",
   "metadata": {},
   "source": [
    "##### print() <br>\n",
    "<p>Don't forget about end=' '</p>"
   ]
  },
  {
   "cell_type": "code",
   "execution_count": 45,
   "metadata": {},
   "outputs": [
    {
     "name": "stdout",
     "output_type": "stream",
     "text": [
      "Matt####Hi####123 Brandt\n",
      "Matt 123\n",
      "\n",
      "Brandt\n"
     ]
    }
   ],
   "source": [
    "#       SEPARATOR - Default is space     END - Default is new line\n",
    "#                                 End is space\n",
    "print(name, \"Hi\", 123, sep=\"####\", end=\" \")\n",
    "# Here, \"Brandt\" is called a LITERAL - not give it a variable name like name2\n",
    "print(\"Brandt\")\n",
    "\n",
    "#                   \\n is new line\n",
    "print(name, 123, end=\"\\n\\n\")\n",
    "print(\"Brandt\")\n",
    "\n"
   ]
  },
  {
   "cell_type": "markdown",
   "metadata": {},
   "source": [
    "##### String Concatenation"
   ]
  },
  {
   "cell_type": "code",
   "execution_count": 47,
   "metadata": {},
   "outputs": [
    {
     "name": "stdout",
     "output_type": "stream",
     "text": [
      "MattDay\n",
      "Matt\n",
      "Day\n"
     ]
    }
   ],
   "source": [
    "first = \"Matt\"\n",
    "last = \"Day\"\n",
    "\n",
    "full = first + last\n",
    "print(full)\n",
    "\n",
    "# strings are immutable - cannot change them\n",
    "print(first)\n",
    "print(last)"
   ]
  },
  {
   "cell_type": "markdown",
   "metadata": {},
   "source": [
    "##### Type Conversion"
   ]
  },
  {
   "cell_type": "code",
   "execution_count": 53,
   "metadata": {},
   "outputs": [
    {
     "name": "stdout",
     "output_type": "stream",
     "text": [
      "32\n",
      "<class 'str'>\n",
      "321\n",
      "33\n"
     ]
    },
    {
     "ename": "ValueError",
     "evalue": "invalid literal for int() with base 10: 'a32'",
     "output_type": "error",
     "traceback": [
      "\u001b[0;31m---------------------------------------------------------------------------\u001b[0m",
      "\u001b[0;31mValueError\u001b[0m                                Traceback (most recent call last)",
      "\u001b[0;32m/var/folders/x1/xrc7zsrd6fj6zx8glj3mbvk80000gn/T/ipykernel_27138/2305309884.py\u001b[0m in \u001b[0;36m<module>\u001b[0;34m\u001b[0m\n\u001b[1;32m     15\u001b[0m \u001b[0mprint\u001b[0m\u001b[0;34m(\u001b[0m\u001b[0mint\u001b[0m\u001b[0;34m(\u001b[0m\u001b[0mnum\u001b[0m\u001b[0;34m)\u001b[0m \u001b[0;34m+\u001b[0m \u001b[0;36m1\u001b[0m\u001b[0;34m)\u001b[0m\u001b[0;34m\u001b[0m\u001b[0;34m\u001b[0m\u001b[0m\n\u001b[1;32m     16\u001b[0m \u001b[0;34m\u001b[0m\u001b[0m\n\u001b[0;32m---> 17\u001b[0;31m \u001b[0mint\u001b[0m\u001b[0;34m(\u001b[0m\u001b[0;34m\"a32\"\u001b[0m\u001b[0;34m)\u001b[0m\u001b[0;34m\u001b[0m\u001b[0;34m\u001b[0m\u001b[0m\n\u001b[0m",
      "\u001b[0;31mValueError\u001b[0m: invalid literal for int() with base 10: 'a32'"
     ]
    }
   ],
   "source": [
    "num = '32'\n",
    "print(num)\n",
    "print(type(num))\n",
    "\n",
    "# looks like a number(integer) - but it is a string\n",
    "\n",
    "# concatenation\n",
    "# string + integer DOESN'T WORK\n",
    "# num + 1\n",
    "\n",
    "print(num + str(1))\n",
    "# quotes around mean it's a string\n",
    "\n",
    "# addition\n",
    "print(int(num) + 1)\n",
    "\n",
    "int(\"a32\")"
   ]
  },
  {
   "cell_type": "markdown",
   "metadata": {},
   "source": [
    "##### input()"
   ]
  },
  {
   "cell_type": "code",
   "execution_count": 60,
   "metadata": {},
   "outputs": [
    {
     "name": "stdout",
     "output_type": "stream",
     "text": [
      "What is your name?Matt\n",
      "What is your age9000\n",
      "You will be 9001 on your birthday!\n"
     ]
    }
   ],
   "source": [
    "# input will always return a STRING.\n",
    "name = input('What is your name?')\n",
    "\n",
    "age = int(input('What is your age'))\n",
    "\n",
    "print('You will be', age + 1, 'on your birthday!')"
   ]
  },
  {
   "cell_type": "markdown",
   "metadata": {},
   "source": [
    "##### format()"
   ]
  },
  {
   "cell_type": "code",
   "execution_count": 64,
   "metadata": {},
   "outputs": [
    {
     "name": "stdout",
     "output_type": "stream",
     "text": [
      "My name is Matt and I am 9000 years old\n",
      "My name is 6 and I am 9000 years old\n"
     ]
    }
   ],
   "source": [
    "# f-strings - add curly braces around the variables\n",
    "# saves time vs concantenation\n",
    "sentence = f'My name is {name} and I am {age} years old'\n",
    "print(sentence)\n",
    "\n",
    "sentence2 = f'My name is {Matt} and I am {9000} years old'\n",
    "print(sentence2)"
   ]
  },
  {
   "cell_type": "markdown",
   "metadata": {},
   "source": [
    "##### Old Way (python 2)"
   ]
  },
  {
   "cell_type": "code",
   "execution_count": null,
   "metadata": {},
   "outputs": [],
   "source": []
  },
  {
   "cell_type": "markdown",
   "metadata": {},
   "source": [
    "# In-Class Exercise 1 <br>\n",
    "<p>Create a format statement that asks for color, year, make, model and prints out the results</p>"
   ]
  },
  {
   "cell_type": "code",
   "execution_count": 68,
   "metadata": {},
   "outputs": [
    {
     "name": "stdout",
     "output_type": "stream",
     "text": [
      "What color is your car?Blue\n",
      "What year is your car?2018\n",
      "What is the make of your car?Toyota\n",
      "What is the model of your car?Prius Prime\n",
      "You drive a 2018 Blue Toyota Prius Prime.\n"
     ]
    }
   ],
   "source": [
    "color = input(\"What color is your car?\")\n",
    "year = input(\"What year is your car?\")\n",
    "make = input(\"What is the make of your car?\")\n",
    "model = input(\"What is the model of your car?\")\n",
    "\n",
    "sentence = f'You drive a {year} {color} {make} {model}.'\n",
    "print(sentence)"
   ]
  },
  {
   "cell_type": "markdown",
   "metadata": {},
   "source": [
    "### If Statements"
   ]
  },
  {
   "cell_type": "code",
   "execution_count": 73,
   "metadata": {},
   "outputs": [
    {
     "name": "stdout",
     "output_type": "stream",
     "text": [
      "NUM1 is smaller\n"
     ]
    }
   ],
   "source": [
    "# Available operators: Greater(>), Less(<),Equal(==)\n",
    "# Greater or Equal(>=), Less or Equal (<=)\n",
    "\n",
    "# Truth Tree:\n",
    "# T && F = F\n",
    "# T && T = T\n",
    "# T || F = T\n",
    "# F || T = T\n",
    "# F || F = F\n",
    "\n",
    "num1 = 5\n",
    "num2 = 10\n",
    "\n",
    "if num1 > num2:\n",
    "    print('NUM1 is bigger')\n",
    "elif num1 == num2:\n",
    "    print('equal')\n",
    "else:  \n",
    "#     num1 < num 2 - don't need this for ELSE\n",
    "    print('NUM1 is smaller')\n",
    "    "
   ]
  },
  {
   "cell_type": "markdown",
   "metadata": {},
   "source": [
    "##### 'is' keyword"
   ]
  },
  {
   "cell_type": "code",
   "execution_count": 78,
   "metadata": {
    "scrolled": true
   },
   "outputs": [
    {
     "name": "stdout",
     "output_type": "stream",
     "text": [
      "they are the exact same thing\n",
      "False\n"
     ]
    }
   ],
   "source": [
    "# use the \"IS\" keyword when checking for same/similar objects, not same value\n",
    "num3 = 55\n",
    "num4 = 55\n",
    "\n",
    "# \"IS\" looks for referencial equality\n",
    "# 55 is the same for both - 55 is 55 no matter what\n",
    "\n",
    "if num3 is num4:\n",
    "    print('they are the exact same thing')\n",
    "    \n",
    "shoha = [5, 5, 5]\n",
    "brandt = [5, 5, 5]\n",
    "\n",
    "# FALSE because they aren't the same actual list\n",
    "print(shoha is brandt)"
   ]
  },
  {
   "cell_type": "markdown",
   "metadata": {},
   "source": [
    "##### 'in' keyword"
   ]
  },
  {
   "cell_type": "code",
   "execution_count": 81,
   "metadata": {},
   "outputs": [
    {
     "name": "stdout",
     "output_type": "stream",
     "text": [
      "found o\n",
      "not found\n"
     ]
    }
   ],
   "source": [
    "char = 'Harry Potter'\n",
    "\n",
    "if 'o' in char:\n",
    "    print('found o')\n",
    "\n",
    "# looking for a LITERAL match - capitals count!\n",
    "if 'O' in char:\n",
    "    print('found o')\n",
    "else: \n",
    "    print('not found')"
   ]
  },
  {
   "cell_type": "markdown",
   "metadata": {},
   "source": [
    "##### 'not in' keyword'"
   ]
  },
  {
   "cell_type": "code",
   "execution_count": 85,
   "metadata": {},
   "outputs": [
    {
     "name": "stdout",
     "output_type": "stream",
     "text": [
      "there is an \"a\"\n"
     ]
    },
    {
     "ename": "NameError",
     "evalue": "name 'false' is not defined",
     "output_type": "error",
     "traceback": [
      "\u001b[0;31m---------------------------------------------------------------------------\u001b[0m",
      "\u001b[0;31mNameError\u001b[0m                                 Traceback (most recent call last)",
      "\u001b[0;32m/var/folders/x1/xrc7zsrd6fj6zx8glj3mbvk80000gn/T/ipykernel_27138/3325121530.py\u001b[0m in \u001b[0;36m<module>\u001b[0;34m\u001b[0m\n\u001b[1;32m      5\u001b[0m \u001b[0;34m\u001b[0m\u001b[0m\n\u001b[1;32m      6\u001b[0m \u001b[0;34m\u001b[0m\u001b[0m\n\u001b[0;32m----> 7\u001b[0;31m \u001b[0;32mif\u001b[0m \u001b[0;32mnot\u001b[0m \u001b[0mfalse\u001b[0m\u001b[0;34m:\u001b[0m\u001b[0;34m\u001b[0m\u001b[0;34m\u001b[0m\u001b[0m\n\u001b[0m\u001b[1;32m      8\u001b[0m     \u001b[0mprint\u001b[0m\u001b[0;34m(\u001b[0m\u001b[0mtrue\u001b[0m\u001b[0;34m)\u001b[0m\u001b[0;34m\u001b[0m\u001b[0;34m\u001b[0m\u001b[0m\n",
      "\u001b[0;31mNameError\u001b[0m: name 'false' is not defined"
     ]
    }
   ],
   "source": [
    "if 'a' not in char:\n",
    "    print('no \"a\"')\n",
    "else:\n",
    "    print('there is an \"a\"')\n",
    "    \n",
    "\n",
    "# \"if not false:\" is the same as saying \"if true\""
   ]
  },
  {
   "cell_type": "markdown",
   "metadata": {},
   "source": [
    "# In-Class Exercise 2 <br>\n",
    "<p>Ask user for input, check to see if the letter 'p' is in the input</p>"
   ]
  },
  {
   "cell_type": "code",
   "execution_count": 93,
   "metadata": {},
   "outputs": [
    {
     "name": "stdout",
     "output_type": "stream",
     "text": [
      "What is your favorite car?Prius\n",
      "there is a \"p\"\n"
     ]
    }
   ],
   "source": [
    "car = input(\"What is your favorite car?\")\n",
    "car = car.lower()\n",
    "\n",
    "if 'p' in car:\n",
    "    print('there is a \"p\"')\n",
    "else:\n",
    "    print('there is not a \"p\"')"
   ]
  },
  {
   "cell_type": "markdown",
   "metadata": {},
   "source": [
    "## Using 'and'/'or' with If Statements"
   ]
  },
  {
   "cell_type": "code",
   "execution_count": 97,
   "metadata": {},
   "outputs": [
    {
     "name": "stdout",
     "output_type": "stream",
     "text": [
      "no\n",
      "FOUND IT\n"
     ]
    }
   ],
   "source": [
    "name = 'Shoha'\n",
    "\n",
    "\n",
    "# have to have the full \"'o' in name\" on both sides of the conjunction\n",
    "if 'o' in name and 'e' in name:\n",
    "    print('FOUND IT')\n",
    "else:\n",
    "    print('no')\n",
    "    \n",
    "# difference between \"and\" and \"or\"\n",
    "    \n",
    "if 'o' in name or 'e' in name:\n",
    "    print('FOUND IT')\n",
    "else:\n",
    "    print('no')\n",
    "    \n",
    "    \n",
    "# TRUTHINESS\n",
    "# False     True\n",
    "# 0         Any number\n",
    "# [ ]       [List, List, List]\n",
    "# \" \"       \"String\"\n",
    "# { }       {Dictionary}"
   ]
  },
  {
   "cell_type": "markdown",
   "metadata": {},
   "source": [
    "### Elif Statements"
   ]
  },
  {
   "cell_type": "code",
   "execution_count": null,
   "metadata": {},
   "outputs": [],
   "source": []
  },
  {
   "cell_type": "markdown",
   "metadata": {},
   "source": [
    "### Else Statements"
   ]
  },
  {
   "cell_type": "code",
   "execution_count": null,
   "metadata": {},
   "outputs": [],
   "source": [
    "# see above"
   ]
  },
  {
   "cell_type": "markdown",
   "metadata": {},
   "source": [
    "### For Loops"
   ]
  },
  {
   "cell_type": "code",
   "execution_count": 106,
   "metadata": {},
   "outputs": [
    {
     "name": "stdout",
     "output_type": "stream",
     "text": [
      "FOUND O\n",
      "0 s\n",
      "1 h\n",
      "2 o\n",
      "found \"o\" at index 2\n",
      "3 h\n",
      "4 a\n"
     ]
    }
   ],
   "source": [
    "# SYNTAX\n",
    "# for VARIABLE in ITERABLE\n",
    "name = 'shoha'\n",
    "#       01234\n",
    "# every variable has a POSITION from 0 to end \n",
    "# len(name) will be 5\n",
    "\n",
    "# looping through each item\n",
    "for letter in name:\n",
    "    if letter == 'o':\n",
    "        print('FOUND O')\n",
    "\n",
    "\n",
    "# looping through every index, then using the index to find item\n",
    "for index in range(len(name)):\n",
    "    print(index, name[index])\n",
    "    if name[index] == 'o':\n",
    "        print(f'found \"o\" at index {index}')\n",
    "#     bracket notation to get cooresponding item in that index\n",
    "    \n",
    "    \n",
    "    \n",
    "if True:\n",
    "    pass\n",
    "# pass functions like a placeholder to avoid errors\n",
    "else:\n",
    "    print('hi')"
   ]
  },
  {
   "cell_type": "markdown",
   "metadata": {},
   "source": [
    "##### Using 'in' keyword"
   ]
  },
  {
   "cell_type": "code",
   "execution_count": 110,
   "metadata": {},
   "outputs": [],
   "source": [
    "# see above\n"
   ]
  },
  {
   "cell_type": "markdown",
   "metadata": {},
   "source": [
    "##### Continue Statement"
   ]
  },
  {
   "cell_type": "code",
   "execution_count": null,
   "metadata": {},
   "outputs": [],
   "source": [
    "# will continue to next iteration"
   ]
  },
  {
   "cell_type": "code",
   "execution_count": 112,
   "metadata": {},
   "outputs": [
    {
     "name": "stdout",
     "output_type": "stream",
     "text": [
      "0\n",
      "1\n",
      "2\n",
      "3\n",
      "4\n",
      "6\n"
     ]
    }
   ],
   "source": [
    "for num in range(7):\n",
    "    if num == 5:\n",
    "        continue\n",
    "    print(num)\n",
    "    \n",
    "# CONTINUE brings you back to the next iteration (skipped print(5) in the above example)\n",
    "\n"
   ]
  },
  {
   "cell_type": "markdown",
   "metadata": {},
   "source": [
    "##### Break Statement"
   ]
  },
  {
   "cell_type": "code",
   "execution_count": null,
   "metadata": {},
   "outputs": [],
   "source": [
    "# will break out of current loop"
   ]
  },
  {
   "cell_type": "code",
   "execution_count": 114,
   "metadata": {},
   "outputs": [
    {
     "name": "stdout",
     "output_type": "stream",
     "text": [
      "0\n",
      "1\n",
      "2\n",
      "3\n",
      "4\n",
      "done\n"
     ]
    }
   ],
   "source": [
    "for num in range(7):\n",
    "    if num == 5:\n",
    "        break\n",
    "    print(num)\n",
    "    \n",
    "print('done')\n",
    "    \n",
    "# BREAK removes you from the for loop entirely"
   ]
  },
  {
   "cell_type": "markdown",
   "metadata": {},
   "source": [
    "##### Pass Statement"
   ]
  },
  {
   "cell_type": "code",
   "execution_count": null,
   "metadata": {},
   "outputs": [],
   "source": [
    "# mostly used as a placeholder, and will move on on same iteration"
   ]
  },
  {
   "cell_type": "code",
   "execution_count": 115,
   "metadata": {},
   "outputs": [
    {
     "name": "stdout",
     "output_type": "stream",
     "text": [
      "0\n",
      "1\n",
      "2\n",
      "3\n",
      "4\n",
      "5\n",
      "6\n",
      "done\n"
     ]
    }
   ],
   "source": [
    "for num in range(7):\n",
    "    if num == 5:\n",
    "        pass\n",
    "    print(num)\n",
    "    \n",
    "print('done')\n",
    "\n",
    "# '5' gets printed"
   ]
  },
  {
   "cell_type": "markdown",
   "metadata": {},
   "source": [
    "##### Double For Loops"
   ]
  },
  {
   "cell_type": "code",
   "execution_count": 116,
   "metadata": {},
   "outputs": [
    {
     "name": "stdout",
     "output_type": "stream",
     "text": [
      "i is 0, j is 0\n",
      "i is 0, j is 1\n",
      "i is 1, j is 0\n",
      "i is 1, j is 1\n",
      "i is 2, j is 0\n",
      "i is 2, j is 1\n"
     ]
    }
   ],
   "source": [
    "for i in range(3):\n",
    "    for j in range (2):\n",
    "        print(f'i is {i}, j is {j}')\n",
    "        \n",
    "# i = 0, 1, 2\n",
    "# j = 0, 1\n",
    "\n",
    "# the inner for loop runs entirely until the outer for loop can move to its next interation"
   ]
  },
  {
   "cell_type": "markdown",
   "metadata": {},
   "source": [
    "### While Loops"
   ]
  },
  {
   "cell_type": "code",
   "execution_count": 118,
   "metadata": {},
   "outputs": [
    {
     "name": "stdout",
     "output_type": "stream",
     "text": [
      "0\n",
      "1\n",
      "2\n",
      "3\n",
      "4\n",
      "5\n",
      "6\n",
      "7\n",
      "8\n",
      "9\n",
      "done\n"
     ]
    }
   ],
   "source": [
    "# syntax\n",
    "\n",
    "# while CONDITION:\n",
    "\n",
    "num = 0\n",
    "while num < 10:\n",
    "    print(num)\n",
    "    num += 1\n",
    "print('done')\n",
    "    \n",
    "# everytime we loop, '1' is added to 'num' until it reaches '10'\n",
    "# without that num += 1, we end up in an INFINITE LOOP - BADBADBAD"
   ]
  },
  {
   "cell_type": "markdown",
   "metadata": {},
   "source": [
    "##### Looping 'While True'"
   ]
  },
  {
   "cell_type": "code",
   "execution_count": 125,
   "metadata": {},
   "outputs": [
    {
     "name": "stdout",
     "output_type": "stream",
     "text": [
      "Guess a number between 1 and 1004\n",
      "Your guess is 4.\n",
      "Incorrect, please try again\n",
      "Guess a number between 1 and 1005\n",
      "Your guess is 5.\n",
      "Incorrect, please try again\n",
      "Guess a number between 1 and 1003\n",
      "Your guess is 3.\n",
      "Correct, you win!!!\n"
     ]
    }
   ],
   "source": [
    "while True:\n",
    "    num = input('Guess a number between 1 and 100')\n",
    "    print(f'Your guess is {num}.')\n",
    "    if num == '3':\n",
    "        print(f'Correct, you win!!!')\n",
    "        break\n",
    "    print('Incorrect, please try again')\n",
    "\n",
    "    "
   ]
  },
  {
   "cell_type": "markdown",
   "metadata": {},
   "source": [
    "##### While & For Loops Used Together"
   ]
  },
  {
   "cell_type": "code",
   "execution_count": 126,
   "metadata": {},
   "outputs": [
    {
     "name": "stdout",
     "output_type": "stream",
     "text": [
      "While Loop Iteration: 0\n",
      "For Loop Iteration: 0\n",
      "For Loop Iteration: 1\n",
      "While Loop Iteration: 1\n",
      "For Loop Iteration: 0\n",
      "For Loop Iteration: 1\n",
      "While Loop Iteration: 2\n",
      "For Loop Iteration: 0\n",
      "For Loop Iteration: 1\n",
      "While Loop Iteration: 3\n",
      "For Loop Iteration: 0\n",
      "For Loop Iteration: 1\n",
      "While Loop Iteration: 4\n",
      "For Loop Iteration: 0\n",
      "For Loop Iteration: 1\n"
     ]
    }
   ],
   "source": [
    "num = 0\n",
    "while num < 5:\n",
    "    print(f'While Loop Iteration: {num}')\n",
    "    \n",
    "    for i in range(2):\n",
    "        print(f'For Loop Iteration: {i}')\n",
    "        \n",
    "    num += 1\n",
    "    \n",
    "# Very similar to a double for loop"
   ]
  },
  {
   "cell_type": "markdown",
   "metadata": {},
   "source": [
    "### Built-In Functions"
   ]
  },
  {
   "cell_type": "markdown",
   "metadata": {},
   "source": [
    "##### range()"
   ]
  },
  {
   "cell_type": "code",
   "execution_count": 130,
   "metadata": {},
   "outputs": [
    {
     "name": "stdout",
     "output_type": "stream",
     "text": [
      "0\n",
      "1\n",
      "2\n",
      "3\n",
      "4\n",
      "5\n",
      "6\n",
      "7\n",
      "8\n",
      "9\n",
      "3\n",
      "4\n",
      "5\n",
      "6\n",
      "7\n",
      "8\n",
      "9\n",
      "3\n",
      "5\n",
      "7\n",
      "9\n"
     ]
    }
   ],
   "source": [
    "# start, stop, step\n",
    "for i in range(10):\n",
    "    print(i)\n",
    "    \n",
    "for i in range(3, 10):\n",
    "    print(i)\n",
    "    \n",
    "for i in range(3, 10, 2):\n",
    "    print(i)"
   ]
  },
  {
   "cell_type": "markdown",
   "metadata": {},
   "source": [
    "##### len()"
   ]
  },
  {
   "cell_type": "code",
   "execution_count": 131,
   "metadata": {},
   "outputs": [
    {
     "data": {
      "text/plain": [
       "6"
      ]
     },
     "execution_count": 131,
     "metadata": {},
     "output_type": "execute_result"
    }
   ],
   "source": [
    "# checks the length of a variable\n",
    "name = \"Aubrey\"\n",
    "len(name)\n",
    "\n",
    "name = 123445\n",
    "# len(name) will not return because it is an integer"
   ]
  },
  {
   "cell_type": "markdown",
   "metadata": {},
   "source": [
    "##### help()"
   ]
  },
  {
   "cell_type": "code",
   "execution_count": 135,
   "metadata": {},
   "outputs": [
    {
     "name": "stdout",
     "output_type": "stream",
     "text": [
      "Help on built-in function isinstance in module builtins:\n",
      "\n",
      "isinstance(obj, class_or_tuple, /)\n",
      "    Return whether an object is an instance of a class or of a subclass thereof.\n",
      "    \n",
      "    A tuple, as in ``isinstance(x, (A, B, ...))``, may be given as the target to\n",
      "    check against. This is equivalent to ``isinstance(x, A) or isinstance(x, B)\n",
      "    or ...`` etc.\n",
      "\n"
     ]
    }
   ],
   "source": [
    "# help with a certain type of function\n",
    "\n",
    "help(isinstance)"
   ]
  },
  {
   "cell_type": "markdown",
   "metadata": {},
   "source": [
    "##### isinstance()"
   ]
  },
  {
   "cell_type": "code",
   "execution_count": 138,
   "metadata": {},
   "outputs": [
    {
     "data": {
      "text/plain": [
       "False"
      ]
     },
     "execution_count": 138,
     "metadata": {},
     "output_type": "execute_result"
    }
   ],
   "source": [
    "# is name an integer?\n",
    "\n",
    "isinstance(name, int)"
   ]
  },
  {
   "cell_type": "markdown",
   "metadata": {},
   "source": [
    "##### abs()"
   ]
  },
  {
   "cell_type": "code",
   "execution_count": 139,
   "metadata": {},
   "outputs": [
    {
     "data": {
      "text/plain": [
       "5"
      ]
     },
     "execution_count": 139,
     "metadata": {},
     "output_type": "execute_result"
    }
   ],
   "source": [
    "# finds the absolute value of something\n",
    "\n",
    "abs(-5)"
   ]
  },
  {
   "cell_type": "markdown",
   "metadata": {},
   "source": [
    "### Try and Except"
   ]
  },
  {
   "cell_type": "code",
   "execution_count": 145,
   "metadata": {},
   "outputs": [
    {
     "name": "stdout",
     "output_type": "stream",
     "text": [
      "What is your age?3\n",
      "Guess a number.4\n",
      "Guess a number.e\n",
      "Invalid entry.  Please try again.\n",
      "Guess a number.5\n",
      "You got it!\n"
     ]
    }
   ],
   "source": [
    "# try a couple of lines of code to text if they might break\n",
    "# You can add your own \"error message\" but doesn't stop your code\n",
    "\n",
    "try:\n",
    "    age = int(input('What is your age?'))\n",
    "except:\n",
    "    print('invalid entry.  Please try again.')\n",
    "    \n",
    "\n",
    "    \n",
    "\n",
    "while True:\n",
    "    try:\n",
    "        guess = int(input('Guess a number.'))\n",
    "        if guess == 5:\n",
    "            print('You got it!')\n",
    "            break\n",
    "    except:\n",
    "        print('Invalid entry.  Please try again.')\n",
    "        \n",
    "        \n",
    "# Try and Except is not the only way to error handle - .isdigit() is one for this situation"
   ]
  },
  {
   "cell_type": "markdown",
   "metadata": {},
   "source": [
    "### Lists"
   ]
  },
  {
   "cell_type": "markdown",
   "metadata": {},
   "source": [
    "##### Declaring Lists"
   ]
  },
  {
   "cell_type": "code",
   "execution_count": 149,
   "metadata": {},
   "outputs": [
    {
     "name": "stdout",
     "output_type": "stream",
     "text": [
      "['shoha', 'brandt', 112, [1, 2, 3, 4, 5]]\n",
      "<class 'list'>\n"
     ]
    }
   ],
   "source": [
    "# a list is an ordered collection of objects denoted with square brackets [ ]\n",
    "\n",
    "# can include names,      integers, or lists\n",
    "names = ['shoha', 'brandt', 112, [1, 2, 3, 4, 5]]\n",
    "print(names)\n",
    "print(type(names))"
   ]
  },
  {
   "cell_type": "markdown",
   "metadata": {},
   "source": [
    "##### Indexing a List"
   ]
  },
  {
   "cell_type": "code",
   "execution_count": 155,
   "metadata": {},
   "outputs": [
    {
     "name": "stdout",
     "output_type": "stream",
     "text": [
      "brandt\n",
      "112\n",
      "3\n"
     ]
    }
   ],
   "source": [
    "print(names[1])\n",
    "print(names[-2])\n",
    "\n",
    "# how to get the index inside the inner list\n",
    "# first bracket gets the list - second bracket gets the index inside the inner list\n",
    "print(names[3][2])"
   ]
  },
  {
   "cell_type": "markdown",
   "metadata": {},
   "source": [
    "##### .append()"
   ]
  },
  {
   "cell_type": "code",
   "execution_count": 159,
   "metadata": {},
   "outputs": [
    {
     "name": "stdout",
     "output_type": "stream",
     "text": [
      "[5, 7, 9]\n",
      "[5, 7, 9, 11]\n",
      "HELLO\n"
     ]
    }
   ],
   "source": [
    "numbers = [5, 7, 9]\n",
    "print(numbers)\n",
    "\n",
    "\n",
    "# the .append function doesn't give us anything new\n",
    "# it changes the original list\n",
    "numbers.append(11)\n",
    "print(numbers)\n",
    "\n",
    "\n",
    "x = 'hello'\n",
    "x = x.upper()\n",
    "print(x)"
   ]
  },
  {
   "cell_type": "markdown",
   "metadata": {},
   "source": [
    "##### .insert()"
   ]
  },
  {
   "cell_type": "code",
   "execution_count": 160,
   "metadata": {},
   "outputs": [
    {
     "name": "stdout",
     "output_type": "stream",
     "text": [
      "[5, 7, 9001, 9, 11]\n"
     ]
    }
   ],
   "source": [
    "# at index 2, insert 9001\n",
    "numbers.insert(2, 9001)\n",
    "print(numbers)"
   ]
  },
  {
   "cell_type": "markdown",
   "metadata": {},
   "source": [
    "##### .pop()"
   ]
  },
  {
   "cell_type": "code",
   "execution_count": 162,
   "metadata": {},
   "outputs": [
    {
     "name": "stdout",
     "output_type": "stream",
     "text": [
      "[5, 7, 9001]\n",
      "9\n",
      "[5, 7]\n",
      "9001\n"
     ]
    }
   ],
   "source": [
    "# takes out the (default) last number and saves it\n",
    "# I can store the removed number somewhere\n",
    "\n",
    "removed = numbers.pop()\n",
    "print(numbers)\n",
    "print(removed)\n",
    "\n",
    "# can choose which number to pop\n",
    "removed = numbers.pop(2)\n",
    "print(numbers)\n",
    "print(removed)"
   ]
  },
  {
   "cell_type": "markdown",
   "metadata": {},
   "source": [
    "\n",
    "##### .remove()"
   ]
  },
  {
   "cell_type": "code",
   "execution_count": 169,
   "metadata": {},
   "outputs": [
    {
     "name": "stdout",
     "output_type": "stream",
     "text": [
      "['evan', 'max', 'john']\n"
     ]
    }
   ],
   "source": [
    "names = ['max', 'evan', 'max', 'john']\n",
    "names.remove('max')\n",
    "print(names)\n",
    "\n",
    "# removes first instance of that index"
   ]
  },
  {
   "cell_type": "markdown",
   "metadata": {},
   "source": [
    "##### del()"
   ]
  },
  {
   "cell_type": "code",
   "execution_count": 170,
   "metadata": {},
   "outputs": [
    {
     "name": "stdout",
     "output_type": "stream",
     "text": [
      "['evan', 'max']\n"
     ]
    }
   ],
   "source": [
    "del(names[2])\n",
    "print(names)"
   ]
  },
  {
   "cell_type": "markdown",
   "metadata": {},
   "source": [
    "##### Concatenating Two Lists"
   ]
  },
  {
   "cell_type": "code",
   "execution_count": 171,
   "metadata": {},
   "outputs": [
    {
     "name": "stdout",
     "output_type": "stream",
     "text": [
      "[1, 2, 3, 5, 7, 9]\n",
      "[1, 2, 3]\n",
      "[5, 7, 9]\n"
     ]
    }
   ],
   "source": [
    "l1 = [1, 2, 3]\n",
    "l2 = [5, 7, 9]\n",
    "\n",
    "big = l1 + l2\n",
    "print(big)\n",
    "print(l1)\n",
    "print(l2)"
   ]
  },
  {
   "cell_type": "markdown",
   "metadata": {},
   "source": [
    "##### Lists Within Lists"
   ]
  },
  {
   "cell_type": "code",
   "execution_count": null,
   "metadata": {},
   "outputs": [],
   "source": [
    "# see above"
   ]
  },
  {
   "cell_type": "markdown",
   "metadata": {},
   "source": [
    "##### Looping Through Lists"
   ]
  },
  {
   "cell_type": "code",
   "execution_count": 178,
   "metadata": {},
   "outputs": [
    {
     "name": "stdout",
     "output_type": "stream",
     "text": [
      "B name found brandt\n",
      "B name found Brian\n",
      "b name found at index 1 brandt\n",
      "b name found at index 4 Brian\n"
     ]
    }
   ],
   "source": [
    "names = ['shoha', 'brandt', 'nicole', 'aubrey', 'Brian']\n",
    "\n",
    "for name in names:\n",
    "    if name[0].upper() == \"B\":\n",
    "        print('B name found', name)\n",
    "    else:\n",
    "        pass\n",
    "    \n",
    "for index in range(len(names)):\n",
    "#     print(index)\n",
    "    if names[index][0].lower() == 'b':\n",
    "        print(f'b name found at index {index}', names[index])"
   ]
  },
  {
   "cell_type": "markdown",
   "metadata": {},
   "source": [
    "## Exercise #1 <br>\n",
    "<p>Cube Number Test... Print out all cubed numbers up to the total value 1000. Meaning that if the cubed number is over 1000 break the loop.</p>"
   ]
  },
  {
   "cell_type": "code",
   "execution_count": 181,
   "metadata": {},
   "outputs": [
    {
     "name": "stdout",
     "output_type": "stream",
     "text": [
      "0\n",
      "1\n",
      "8\n",
      "27\n",
      "64\n",
      "125\n",
      "216\n",
      "343\n",
      "512\n",
      "729\n"
     ]
    }
   ],
   "source": [
    "for n in range(1000):\n",
    "    if n**3 < 1000:\n",
    "        print(n**3)\n",
    "    else:\n",
    "        break\n",
    "    "
   ]
  },
  {
   "cell_type": "markdown",
   "metadata": {},
   "source": [
    "## Exercise #2 <br>\n",
    "<p>Get first prime numbers up to 100</p>"
   ]
  },
  {
   "cell_type": "code",
   "execution_count": 265,
   "metadata": {
    "scrolled": true
   },
   "outputs": [
    {
     "name": "stdout",
     "output_type": "stream",
     "text": [
      "1\n",
      "2\n",
      "3\n",
      "5\n",
      "7\n",
      "11\n",
      "13\n",
      "17\n",
      "19\n",
      "23\n",
      "29\n",
      "31\n",
      "37\n",
      "41\n",
      "43\n",
      "47\n",
      "53\n",
      "59\n",
      "61\n",
      "67\n",
      "71\n",
      "73\n",
      "79\n",
      "83\n",
      "89\n",
      "97\n"
     ]
    }
   ],
   "source": [
    "# HINT::\n",
    "# An else after an if runs if the if didn’t\n",
    "# An else after a for runs if the for didn’t break\n",
    "\n",
    "for p in range(1, 100):\n",
    "    if p == 1:\n",
    "        print(p)\n",
    "    elif p == 2:\n",
    "        print(p)\n",
    "    elif (2**(p - 1))%(p) == 1:\n",
    "        print(p)\n",
    "    else:\n",
    "        continue\n",
    "                \n",
    "        \n",
    "        \n"
   ]
  },
  {
   "cell_type": "markdown",
   "metadata": {},
   "source": [
    "# Exercise 3 <br>\n",
    "<p>Take in a users input for their age, if they are younger than 18 print kids, if they're 18 to 65 print adults, else print seniors</p>"
   ]
  },
  {
   "cell_type": "code",
   "execution_count": 267,
   "metadata": {},
   "outputs": [
    {
     "name": "stdout",
     "output_type": "stream",
     "text": [
      "What is your age? 34\n",
      "Your age is: 34.\n",
      "adults\n"
     ]
    }
   ],
   "source": [
    "while True:\n",
    "    try:\n",
    "        age = int(input('What is your age? '))\n",
    "        print(f'Your age is: {age}.')\n",
    "        if age < 18:\n",
    "            print('kids')\n",
    "            break\n",
    "        elif 18 <= age <= 65:\n",
    "            print('adults')\n",
    "            break\n",
    "        else:\n",
    "            print('seniors')\n",
    "            break\n",
    "    except:\n",
    "        print('Invalid entry.  Please try again.')\n",
    "        continue\n",
    "    "
   ]
  },
  {
   "cell_type": "code",
   "execution_count": null,
   "metadata": {},
   "outputs": [],
   "source": []
  }
 ],
 "metadata": {
  "kernelspec": {
   "display_name": "Python 3 (ipykernel)",
   "language": "python",
   "name": "python3"
  },
  "language_info": {
   "codemirror_mode": {
    "name": "ipython",
    "version": 3
   },
   "file_extension": ".py",
   "mimetype": "text/x-python",
   "name": "python",
   "nbconvert_exporter": "python",
   "pygments_lexer": "ipython3",
   "version": "3.9.13"
  }
 },
 "nbformat": 4,
 "nbformat_minor": 2
}
